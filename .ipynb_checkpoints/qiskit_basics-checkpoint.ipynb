{
 "cells": [
  {
   "cell_type": "code",
   "execution_count": 1,
   "metadata": {},
   "outputs": [
    {
     "data": {
      "image/png": "[encoded data removed]",
      "text/plain": [
       "<Figure size 327.252x204.68 with 1 Axes>"
      ]
     },
     "execution_count": 1,
     "metadata": {},
     "output_type": "execute_result"
    }
   ],
   "source": [
    "import qiskit as q\n",
    "%matplotlib inline\n",
    "\n",
    "circuit = q.QuantumCircuit(2, 2) # 2 qubits, 2 classical bits\n",
    "\n",
    "# Basic Circuit\n",
    "circuit.x(0) #not gate\n",
    "circuit.cx(0, 1) #controlled not (Flips 2nd qubit iff first qubit is 1)\n",
    "\n",
    "circuit.measure([0, 1], [0, 1]) #Map qubit values to classical bits\n",
    "circuit.draw(output='mpl')"
   ]
  },
  {
   "cell_type": "code",
   "execution_count": 3,
   "metadata": {},
   "outputs": [],
   "source": [
    "from qiskit import IBMQ\n",
    "\n",
    "IBMQ.save_account(open('token.txt', 'r').read())"
   ]
  },
  {
   "cell_type": "code",
   "execution_count": 4,
   "metadata": {},
   "outputs": [
    {
     "data": {
      "text/plain": [
       "<AccountProvider for IBMQ(hub='ibm-q', group='open', project='main')>"
      ]
     },
     "execution_count": 4,
     "metadata": {},
     "output_type": "execute_result"
    }
   ],
   "source": [
    "IBMQ.load_account()\n"
   ]
  },
  {
   "cell_type": "code",
   "execution_count": 8,
   "metadata": {},
   "outputs": [
    {
     "name": "stdout",
     "output_type": "stream",
     "text": [
      "ibmq_qasm_simulator has 2 queued and simulated qubits\n",
      "ibmqx2 has 2101 queued and 5 qubits\n",
      "ibmq_16_melbourne has 5251 queued and 15 qubits\n",
      "ibmq_armonk has 0 queued and 1 qubits\n",
      "ibmq_athens has 4540 queued and 5 qubits\n",
      "ibmq_santiago has 6166 queued and 5 qubits\n",
      "ibmq_lima has 45 queued and 5 qubits\n",
      "ibmq_belem has 5 queued and 5 qubits\n",
      "ibmq_quito has 625 queued and 5 qubits\n",
      "simulator_statevector has 2 queued and simulated qubits\n",
      "simulator_mps has 2 queued and simulated qubits\n",
      "simulator_extended_stabilizer has 2 queued and simulated qubits\n",
      "simulator_stabilizer has 4 queued and simulated qubits\n"
     ]
    }
   ],
   "source": [
    "provider = IBMQ.get_provider(hub='ibm-q')\n",
    "\n",
    "for backend in provider.backends():\n",
    "    try:\n",
    "        qubit_count = len(backend.properties().qubits)\n",
    "    except:\n",
    "        qubit_count = 'simulated'\n",
    "        \n",
    "    print(f'{backend.name()} has {backend.status().pending_jobs} queued and {qubit_count} qubits')"
   ]
  },
  {
   "cell_type": "code",
   "execution_count": 10,
   "metadata": {},
   "outputs": [
    {
     "name": "stdout",
     "output_type": "stream",
     "text": [
      "Job Status: job has successfully run\n"
     ]
    }
   ],
   "source": [
    "from qiskit.tools.monitor import job_monitor\n",
    "\n",
    "backend = provider.get_backend('ibmq_belem')\n",
    "job = q.execute(circuit, backend=backend, shots=500)\n",
    "job_monitor(job)"
   ]
  },
  {
   "cell_type": "code",
   "execution_count": 12,
   "metadata": {},
   "outputs": [
    {
     "data": {
      "image/png": "[encoded data removed]",
      "text/plain": [
       "<Figure size 504x360 with 1 Axes>"
      ]
     },
     "execution_count": 12,
     "metadata": {},
     "output_type": "execute_result"
    }
   ],
   "source": [
    "from qiskit.visualization import plot_histogram\n",
    "\n",
    "result = job.result()\n",
    "counts = result.get_counts(circuit)\n",
    "\n",
    "plot_histogram([counts])"
   ]
  },
  {
   "cell_type": "code",
   "execution_count": null,
   "metadata": {},
   "outputs": [],
   "source": [
    "# Testing hadarmard gate\n",
    "circuit = q.QuantumCircuit(2, 2) # 2 qubits, 2 classical bits\n",
    "\n",
    "# Basic Circuit\n",
    "circuit.h(0) #not gate\n",
    "circuit.cx(0, 1) #controlled not (Flips 2nd qubit iff first qubit is 1)\n",
    "\n",
    "circuit.measure([0, 1], [0, 1]) #Map qubit values to classical bits\n",
    "circuit.draw(output='mpl')"
   ]
  }
 ],
 "metadata": {
  "kernelspec": {
   "display_name": "Python 3",
   "language": "python",
   "name": "python3"
  },
  "language_info": {
   "codemirror_mode": {
    "name": "ipython",
    "version": 3
   },
   "file_extension": ".py",
   "mimetype": "text/x-python",
   "name": "python",
   "nbconvert_exporter": "python",
   "pygments_lexer": "ipython3",
   "version": "3.8.5"
  }
 },
 "nbformat": 4,
 "nbformat_minor": 4
}
